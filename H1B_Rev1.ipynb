{
 "cells": [
  {
   "cell_type": "code",
   "execution_count": null,
   "metadata": {},
   "outputs": [],
   "source": [
    "#import necessary libraries"
   ]
  },
  {
   "cell_type": "code",
   "execution_count": 3,
   "metadata": {},
   "outputs": [],
   "source": [
    "import requests\n",
    "from bs4 import BeautifulSoup\n",
    "import pandas as pd\n",
    "import numpy as np\n",
    "from matplotlib import pyplot as plt"
   ]
  },
  {
   "cell_type": "code",
   "execution_count": null,
   "metadata": {},
   "outputs": [],
   "source": [
    "#add the requisite URL link to a variable"
   ]
  },
  {
   "cell_type": "code",
   "execution_count": 4,
   "metadata": {},
   "outputs": [],
   "source": [
    "url='https://h1bdata.info/index.php?em=&job=machine+learning%2B&city=&year=All+Years'"
   ]
  },
  {
   "cell_type": "code",
   "execution_count": null,
   "metadata": {},
   "outputs": [],
   "source": [
    "#extract data from the URL"
   ]
  },
  {
   "cell_type": "code",
   "execution_count": 5,
   "metadata": {},
   "outputs": [],
   "source": [
    "page = requests.get(url)"
   ]
  },
  {
   "cell_type": "code",
   "execution_count": null,
   "metadata": {},
   "outputs": [],
   "source": [
    "#parse data scraped from URL"
   ]
  },
  {
   "cell_type": "code",
   "execution_count": 6,
   "metadata": {},
   "outputs": [],
   "source": [
    "soup = BeautifulSoup(page.text,'html.parser')"
   ]
  },
  {
   "cell_type": "code",
   "execution_count": null,
   "metadata": {},
   "outputs": [],
   "source": [
    "#identifying table present in scraped data. I found the class ID by inspecting the element in the webpage initially"
   ]
  },
  {
   "cell_type": "code",
   "execution_count": 7,
   "metadata": {},
   "outputs": [],
   "source": [
    "table = soup.find_all(id='myTable')"
   ]
  },
  {
   "cell_type": "code",
   "execution_count": null,
   "metadata": {},
   "outputs": [],
   "source": [
    "#converting the BeautifulSoup object to a unicode string"
   ]
  },
  {
   "cell_type": "code",
   "execution_count": null,
   "metadata": {},
   "outputs": [],
   "source": [
    "soup.prettify()"
   ]
  },
  {
   "cell_type": "code",
   "execution_count": null,
   "metadata": {},
   "outputs": [],
   "source": [
    "#all the data is present in the first element of the variable 'table'.\n",
    "#converting each line of text that contains a td HTML tag to a new row"
   ]
  },
  {
   "cell_type": "code",
   "execution_count": 9,
   "metadata": {},
   "outputs": [],
   "source": [
    "table=table[0]\n",
    "raw_data =[]\n",
    "for row in table.find_all('tr'):\n",
    "    for cell in row.find_all('td'):\n",
    "        raw_data.append(cell.text)"
   ]
  },
  {
   "cell_type": "code",
   "execution_count": null,
   "metadata": {},
   "outputs": [],
   "source": [
    "#moved all the first elements in each row to a column 'employer'.\n",
    "#performed a similar operation for job title, salary, location, start date, submit date & case status"
   ]
  },
  {
   "cell_type": "code",
   "execution_count": 10,
   "metadata": {},
   "outputs": [],
   "source": [
    "employer = []\n",
    "np.array(employer.append(raw_data[::7]))\n",
    "employer_df = pd.DataFrame(employer)\n",
    "employer_df = employer_df.transpose()"
   ]
  },
  {
   "cell_type": "code",
   "execution_count": 11,
   "metadata": {},
   "outputs": [],
   "source": [
    "title = []\n",
    "np.array(title.append(raw_data[1::7]))\n",
    "title_df = pd.DataFrame(title)\n",
    "title_df = title_df.transpose()"
   ]
  },
  {
   "cell_type": "code",
   "execution_count": 12,
   "metadata": {},
   "outputs": [],
   "source": [
    "salary = []\n",
    "np.array(salary.append(raw_data[2::7]))\n",
    "salary_df = pd.DataFrame(salary)\n",
    "salary_df = salary_df.transpose()\n",
    "salary_df = salary_df[0].str.replace(\",\", \"\").astype(float)"
   ]
  },
  {
   "cell_type": "code",
   "execution_count": 13,
   "metadata": {},
   "outputs": [],
   "source": [
    "location = []\n",
    "np.array(location.append(raw_data[3::7]))\n",
    "location_df = pd.DataFrame(location)\n",
    "location_df = location_df.transpose()"
   ]
  },
  {
   "cell_type": "code",
   "execution_count": 14,
   "metadata": {},
   "outputs": [],
   "source": [
    "submit_date = []\n",
    "np.array(submit_date.append(raw_data[4::7]))\n",
    "submit_date_df = pd.DataFrame(submit_date)\n",
    "submit_date_df = submit_date_df.transpose()\n",
    "submit_date_df = pd.to_datetime(submit_date_df[0])"
   ]
  },
  {
   "cell_type": "code",
   "execution_count": 15,
   "metadata": {},
   "outputs": [],
   "source": [
    "start_date = []\n",
    "np.array(start_date.append(raw_data[5::7]))\n",
    "start_date_df = pd.DataFrame(start_date)\n",
    "start_date_df = start_date_df.transpose()\n",
    "start_date_df = pd.to_datetime(start_date_df[0])"
   ]
  },
  {
   "cell_type": "code",
   "execution_count": 16,
   "metadata": {},
   "outputs": [],
   "source": [
    "case_status = []\n",
    "np.array(case_status.append(raw_data[6::7]))\n",
    "case_status_df = pd.DataFrame(case_status)\n",
    "case_status_df = case_status_df.transpose()"
   ]
  },
  {
   "cell_type": "code",
   "execution_count": null,
   "metadata": {},
   "outputs": [],
   "source": [
    "#concat all individual dataframes into different columns of a single data frame. There's definitely a better way to do this than the way I've done of using separate variable names. It will require further reading."
   ]
  },
  {
   "cell_type": "code",
   "execution_count": 17,
   "metadata": {},
   "outputs": [],
   "source": [
    "df = pd.concat([employer_df,title_df,salary_df,location_df,submit_date_df,start_date_df,case_status_df], axis=1)\n"
   ]
  },
  {
   "cell_type": "code",
   "execution_count": 18,
   "metadata": {
    "scrolled": true
   },
   "outputs": [
    {
     "data": {
      "text/html": [
       "<div>\n",
       "<style scoped>\n",
       "    .dataframe tbody tr th:only-of-type {\n",
       "        vertical-align: middle;\n",
       "    }\n",
       "\n",
       "    .dataframe tbody tr th {\n",
       "        vertical-align: top;\n",
       "    }\n",
       "\n",
       "    .dataframe thead th {\n",
       "        text-align: right;\n",
       "    }\n",
       "</style>\n",
       "<table border=\"1\" class=\"dataframe\">\n",
       "  <thead>\n",
       "    <tr style=\"text-align: right;\">\n",
       "      <th></th>\n",
       "      <th>0</th>\n",
       "      <th>0</th>\n",
       "      <th>0</th>\n",
       "      <th>0</th>\n",
       "      <th>0</th>\n",
       "      <th>0</th>\n",
       "      <th>0</th>\n",
       "    </tr>\n",
       "  </thead>\n",
       "  <tbody>\n",
       "    <tr>\n",
       "      <th>0</th>\n",
       "      <td>DROPBOX INC</td>\n",
       "      <td>MACHINE LEARNING</td>\n",
       "      <td>122429.0</td>\n",
       "      <td>SAN FRANCISCO, CA</td>\n",
       "      <td>2018-03-05</td>\n",
       "      <td>2018-09-01</td>\n",
       "      <td>CERTIFIED</td>\n",
       "    </tr>\n",
       "    <tr>\n",
       "      <th>1</th>\n",
       "      <td>GRAVITY JACK INC</td>\n",
       "      <td>MACHINE LEARNING &amp; COMPUTER VISION ENGINEER</td>\n",
       "      <td>58500.0</td>\n",
       "      <td>LIBERTY LAKE, WA</td>\n",
       "      <td>2018-03-21</td>\n",
       "      <td>2018-03-21</td>\n",
       "      <td>DENIED</td>\n",
       "    </tr>\n",
       "    <tr>\n",
       "      <th>2</th>\n",
       "      <td>GRAVITY JACK INC</td>\n",
       "      <td>MACHINE LEARNING &amp; COMPUTER VISION ENGINEER</td>\n",
       "      <td>58500.0</td>\n",
       "      <td>LIBERTY LAKE, WA</td>\n",
       "      <td>2018-03-26</td>\n",
       "      <td>2018-03-26</td>\n",
       "      <td>CERTIFIED</td>\n",
       "    </tr>\n",
       "    <tr>\n",
       "      <th>3</th>\n",
       "      <td>JETLORE INC F/K/A QWHISPR INC</td>\n",
       "      <td>MACHINE LEARNING &amp; DATA MINING ARCHITECT</td>\n",
       "      <td>131000.0</td>\n",
       "      <td>SAN MATEO, CA</td>\n",
       "      <td>2017-03-15</td>\n",
       "      <td>2017-09-14</td>\n",
       "      <td>CERTIFIED</td>\n",
       "    </tr>\n",
       "    <tr>\n",
       "      <th>4</th>\n",
       "      <td>MACHINE ZONE INC</td>\n",
       "      <td>MACHINE LEARNING &amp; NLP DIRECTOR</td>\n",
       "      <td>169749.0</td>\n",
       "      <td>PALO ALTO, CA</td>\n",
       "      <td>2017-03-20</td>\n",
       "      <td>2017-09-16</td>\n",
       "      <td>CERTIFIED</td>\n",
       "    </tr>\n",
       "  </tbody>\n",
       "</table>\n",
       "</div>"
      ],
      "text/plain": [
       "                               0                                            0  \\\n",
       "0                    DROPBOX INC                             MACHINE LEARNING   \n",
       "1               GRAVITY JACK INC  MACHINE LEARNING & COMPUTER VISION ENGINEER   \n",
       "2               GRAVITY JACK INC  MACHINE LEARNING & COMPUTER VISION ENGINEER   \n",
       "3  JETLORE INC F/K/A QWHISPR INC     MACHINE LEARNING & DATA MINING ARCHITECT   \n",
       "4               MACHINE ZONE INC              MACHINE LEARNING & NLP DIRECTOR   \n",
       "\n",
       "          0                  0          0          0          0  \n",
       "0  122429.0  SAN FRANCISCO, CA 2018-03-05 2018-09-01  CERTIFIED  \n",
       "1   58500.0   LIBERTY LAKE, WA 2018-03-21 2018-03-21     DENIED  \n",
       "2   58500.0   LIBERTY LAKE, WA 2018-03-26 2018-03-26  CERTIFIED  \n",
       "3  131000.0      SAN MATEO, CA 2017-03-15 2017-09-14  CERTIFIED  \n",
       "4  169749.0      PALO ALTO, CA 2017-03-20 2017-09-16  CERTIFIED  "
      ]
     },
     "execution_count": 18,
     "metadata": {},
     "output_type": "execute_result"
    }
   ],
   "source": [
    "df.head()"
   ]
  },
  {
   "cell_type": "code",
   "execution_count": null,
   "metadata": {},
   "outputs": [],
   "source": [
    "#added column names to the dataframe"
   ]
  },
  {
   "cell_type": "code",
   "execution_count": 19,
   "metadata": {},
   "outputs": [],
   "source": [
    "df.columns = ['company','position_title','salary','location','submit_date','start_date','case_status']"
   ]
  },
  {
   "cell_type": "code",
   "execution_count": 20,
   "metadata": {},
   "outputs": [
    {
     "data": {
      "text/html": [
       "<div>\n",
       "<style scoped>\n",
       "    .dataframe tbody tr th:only-of-type {\n",
       "        vertical-align: middle;\n",
       "    }\n",
       "\n",
       "    .dataframe tbody tr th {\n",
       "        vertical-align: top;\n",
       "    }\n",
       "\n",
       "    .dataframe thead th {\n",
       "        text-align: right;\n",
       "    }\n",
       "</style>\n",
       "<table border=\"1\" class=\"dataframe\">\n",
       "  <thead>\n",
       "    <tr style=\"text-align: right;\">\n",
       "      <th></th>\n",
       "      <th>company</th>\n",
       "      <th>position_title</th>\n",
       "      <th>salary</th>\n",
       "      <th>location</th>\n",
       "      <th>submit_date</th>\n",
       "      <th>start_date</th>\n",
       "      <th>case_status</th>\n",
       "    </tr>\n",
       "  </thead>\n",
       "  <tbody>\n",
       "    <tr>\n",
       "      <th>0</th>\n",
       "      <td>DROPBOX INC</td>\n",
       "      <td>MACHINE LEARNING</td>\n",
       "      <td>122429.0</td>\n",
       "      <td>SAN FRANCISCO, CA</td>\n",
       "      <td>2018-03-05</td>\n",
       "      <td>2018-09-01</td>\n",
       "      <td>CERTIFIED</td>\n",
       "    </tr>\n",
       "    <tr>\n",
       "      <th>1</th>\n",
       "      <td>GRAVITY JACK INC</td>\n",
       "      <td>MACHINE LEARNING &amp; COMPUTER VISION ENGINEER</td>\n",
       "      <td>58500.0</td>\n",
       "      <td>LIBERTY LAKE, WA</td>\n",
       "      <td>2018-03-21</td>\n",
       "      <td>2018-03-21</td>\n",
       "      <td>DENIED</td>\n",
       "    </tr>\n",
       "    <tr>\n",
       "      <th>2</th>\n",
       "      <td>GRAVITY JACK INC</td>\n",
       "      <td>MACHINE LEARNING &amp; COMPUTER VISION ENGINEER</td>\n",
       "      <td>58500.0</td>\n",
       "      <td>LIBERTY LAKE, WA</td>\n",
       "      <td>2018-03-26</td>\n",
       "      <td>2018-03-26</td>\n",
       "      <td>CERTIFIED</td>\n",
       "    </tr>\n",
       "    <tr>\n",
       "      <th>3</th>\n",
       "      <td>JETLORE INC F/K/A QWHISPR INC</td>\n",
       "      <td>MACHINE LEARNING &amp; DATA MINING ARCHITECT</td>\n",
       "      <td>131000.0</td>\n",
       "      <td>SAN MATEO, CA</td>\n",
       "      <td>2017-03-15</td>\n",
       "      <td>2017-09-14</td>\n",
       "      <td>CERTIFIED</td>\n",
       "    </tr>\n",
       "    <tr>\n",
       "      <th>4</th>\n",
       "      <td>MACHINE ZONE INC</td>\n",
       "      <td>MACHINE LEARNING &amp; NLP DIRECTOR</td>\n",
       "      <td>169749.0</td>\n",
       "      <td>PALO ALTO, CA</td>\n",
       "      <td>2017-03-20</td>\n",
       "      <td>2017-09-16</td>\n",
       "      <td>CERTIFIED</td>\n",
       "    </tr>\n",
       "  </tbody>\n",
       "</table>\n",
       "</div>"
      ],
      "text/plain": [
       "                         company                               position_title  \\\n",
       "0                    DROPBOX INC                             MACHINE LEARNING   \n",
       "1               GRAVITY JACK INC  MACHINE LEARNING & COMPUTER VISION ENGINEER   \n",
       "2               GRAVITY JACK INC  MACHINE LEARNING & COMPUTER VISION ENGINEER   \n",
       "3  JETLORE INC F/K/A QWHISPR INC     MACHINE LEARNING & DATA MINING ARCHITECT   \n",
       "4               MACHINE ZONE INC              MACHINE LEARNING & NLP DIRECTOR   \n",
       "\n",
       "     salary           location submit_date start_date case_status  \n",
       "0  122429.0  SAN FRANCISCO, CA  2018-03-05 2018-09-01   CERTIFIED  \n",
       "1   58500.0   LIBERTY LAKE, WA  2018-03-21 2018-03-21      DENIED  \n",
       "2   58500.0   LIBERTY LAKE, WA  2018-03-26 2018-03-26   CERTIFIED  \n",
       "3  131000.0      SAN MATEO, CA  2017-03-15 2017-09-14   CERTIFIED  \n",
       "4  169749.0      PALO ALTO, CA  2017-03-20 2017-09-16   CERTIFIED  "
      ]
     },
     "execution_count": 20,
     "metadata": {},
     "output_type": "execute_result"
    }
   ],
   "source": [
    "df.head()"
   ]
  },
  {
   "cell_type": "code",
   "execution_count": 21,
   "metadata": {},
   "outputs": [],
   "source": [
    "#considering only certified LCA applications. Other applications are either withdrawn or denied.\n",
    "df = df[df.case_status == 'CERTIFIED']"
   ]
  },
  {
   "cell_type": "code",
   "execution_count": 22,
   "metadata": {},
   "outputs": [
    {
     "data": {
      "text/html": [
       "<div>\n",
       "<style scoped>\n",
       "    .dataframe tbody tr th:only-of-type {\n",
       "        vertical-align: middle;\n",
       "    }\n",
       "\n",
       "    .dataframe tbody tr th {\n",
       "        vertical-align: top;\n",
       "    }\n",
       "\n",
       "    .dataframe thead th {\n",
       "        text-align: right;\n",
       "    }\n",
       "</style>\n",
       "<table border=\"1\" class=\"dataframe\">\n",
       "  <thead>\n",
       "    <tr style=\"text-align: right;\">\n",
       "      <th></th>\n",
       "      <th>company</th>\n",
       "      <th>position_title</th>\n",
       "      <th>salary</th>\n",
       "      <th>location</th>\n",
       "      <th>submit_date</th>\n",
       "      <th>start_date</th>\n",
       "      <th>case_status</th>\n",
       "    </tr>\n",
       "  </thead>\n",
       "  <tbody>\n",
       "    <tr>\n",
       "      <th>0</th>\n",
       "      <td>DROPBOX INC</td>\n",
       "      <td>MACHINE LEARNING</td>\n",
       "      <td>122429.0</td>\n",
       "      <td>SAN FRANCISCO, CA</td>\n",
       "      <td>2018-03-05</td>\n",
       "      <td>2018-09-01</td>\n",
       "      <td>CERTIFIED</td>\n",
       "    </tr>\n",
       "    <tr>\n",
       "      <th>2</th>\n",
       "      <td>GRAVITY JACK INC</td>\n",
       "      <td>MACHINE LEARNING &amp; COMPUTER VISION ENGINEER</td>\n",
       "      <td>58500.0</td>\n",
       "      <td>LIBERTY LAKE, WA</td>\n",
       "      <td>2018-03-26</td>\n",
       "      <td>2018-03-26</td>\n",
       "      <td>CERTIFIED</td>\n",
       "    </tr>\n",
       "    <tr>\n",
       "      <th>3</th>\n",
       "      <td>JETLORE INC F/K/A QWHISPR INC</td>\n",
       "      <td>MACHINE LEARNING &amp; DATA MINING ARCHITECT</td>\n",
       "      <td>131000.0</td>\n",
       "      <td>SAN MATEO, CA</td>\n",
       "      <td>2017-03-15</td>\n",
       "      <td>2017-09-14</td>\n",
       "      <td>CERTIFIED</td>\n",
       "    </tr>\n",
       "    <tr>\n",
       "      <th>4</th>\n",
       "      <td>MACHINE ZONE INC</td>\n",
       "      <td>MACHINE LEARNING &amp; NLP DIRECTOR</td>\n",
       "      <td>169749.0</td>\n",
       "      <td>PALO ALTO, CA</td>\n",
       "      <td>2017-03-20</td>\n",
       "      <td>2017-09-16</td>\n",
       "      <td>CERTIFIED</td>\n",
       "    </tr>\n",
       "    <tr>\n",
       "      <th>5</th>\n",
       "      <td>ABNORMAL SECURITY INC</td>\n",
       "      <td>MACHINE LEARNING &amp; USER EXPERIENCE ENGINEER</td>\n",
       "      <td>165000.0</td>\n",
       "      <td>SAN FRANCISCO, CA</td>\n",
       "      <td>2018-04-09</td>\n",
       "      <td>2018-05-21</td>\n",
       "      <td>CERTIFIED</td>\n",
       "    </tr>\n",
       "  </tbody>\n",
       "</table>\n",
       "</div>"
      ],
      "text/plain": [
       "                         company                               position_title  \\\n",
       "0                    DROPBOX INC                             MACHINE LEARNING   \n",
       "2               GRAVITY JACK INC  MACHINE LEARNING & COMPUTER VISION ENGINEER   \n",
       "3  JETLORE INC F/K/A QWHISPR INC     MACHINE LEARNING & DATA MINING ARCHITECT   \n",
       "4               MACHINE ZONE INC              MACHINE LEARNING & NLP DIRECTOR   \n",
       "5          ABNORMAL SECURITY INC  MACHINE LEARNING & USER EXPERIENCE ENGINEER   \n",
       "\n",
       "     salary           location submit_date start_date case_status  \n",
       "0  122429.0  SAN FRANCISCO, CA  2018-03-05 2018-09-01   CERTIFIED  \n",
       "2   58500.0   LIBERTY LAKE, WA  2018-03-26 2018-03-26   CERTIFIED  \n",
       "3  131000.0      SAN MATEO, CA  2017-03-15 2017-09-14   CERTIFIED  \n",
       "4  169749.0      PALO ALTO, CA  2017-03-20 2017-09-16   CERTIFIED  \n",
       "5  165000.0  SAN FRANCISCO, CA  2018-04-09 2018-05-21   CERTIFIED  "
      ]
     },
     "execution_count": 22,
     "metadata": {},
     "output_type": "execute_result"
    }
   ],
   "source": [
    "df.head()"
   ]
  },
  {
   "cell_type": "code",
   "execution_count": 23,
   "metadata": {},
   "outputs": [],
   "source": [
    "#splitting the submitdate & startdate columns with years and months for easier analysis. I'm yet to learn how to use datetime objects for time series analysis."
   ]
  },
  {
   "cell_type": "code",
   "execution_count": 24,
   "metadata": {},
   "outputs": [],
   "source": [
    "df['submitdate_year'] = pd.DatetimeIndex(df['submit_date']).year"
   ]
  },
  {
   "cell_type": "code",
   "execution_count": 25,
   "metadata": {},
   "outputs": [],
   "source": [
    "df['submitdate_month'] = pd.DatetimeIndex(df['submit_date']).month"
   ]
  },
  {
   "cell_type": "code",
   "execution_count": 26,
   "metadata": {},
   "outputs": [],
   "source": [
    "df['startdate_year'] = pd.DatetimeIndex(df['start_date']).year"
   ]
  },
  {
   "cell_type": "code",
   "execution_count": 27,
   "metadata": {},
   "outputs": [],
   "source": [
    "df['startdate_month'] = pd.DatetimeIndex(df['start_date']).month"
   ]
  },
  {
   "cell_type": "code",
   "execution_count": 28,
   "metadata": {},
   "outputs": [
    {
     "data": {
      "text/html": [
       "<div>\n",
       "<style scoped>\n",
       "    .dataframe tbody tr th:only-of-type {\n",
       "        vertical-align: middle;\n",
       "    }\n",
       "\n",
       "    .dataframe tbody tr th {\n",
       "        vertical-align: top;\n",
       "    }\n",
       "\n",
       "    .dataframe thead th {\n",
       "        text-align: right;\n",
       "    }\n",
       "</style>\n",
       "<table border=\"1\" class=\"dataframe\">\n",
       "  <thead>\n",
       "    <tr style=\"text-align: right;\">\n",
       "      <th></th>\n",
       "      <th>company</th>\n",
       "      <th>position_title</th>\n",
       "      <th>salary</th>\n",
       "      <th>location</th>\n",
       "      <th>submit_date</th>\n",
       "      <th>start_date</th>\n",
       "      <th>case_status</th>\n",
       "      <th>submitdate_year</th>\n",
       "      <th>submitdate_month</th>\n",
       "      <th>startdate_year</th>\n",
       "      <th>startdate_month</th>\n",
       "    </tr>\n",
       "  </thead>\n",
       "  <tbody>\n",
       "    <tr>\n",
       "      <th>0</th>\n",
       "      <td>DROPBOX INC</td>\n",
       "      <td>MACHINE LEARNING</td>\n",
       "      <td>122429.0</td>\n",
       "      <td>SAN FRANCISCO, CA</td>\n",
       "      <td>2018-03-05</td>\n",
       "      <td>2018-09-01</td>\n",
       "      <td>CERTIFIED</td>\n",
       "      <td>2018</td>\n",
       "      <td>3</td>\n",
       "      <td>2018</td>\n",
       "      <td>9</td>\n",
       "    </tr>\n",
       "    <tr>\n",
       "      <th>2</th>\n",
       "      <td>GRAVITY JACK INC</td>\n",
       "      <td>MACHINE LEARNING &amp; COMPUTER VISION ENGINEER</td>\n",
       "      <td>58500.0</td>\n",
       "      <td>LIBERTY LAKE, WA</td>\n",
       "      <td>2018-03-26</td>\n",
       "      <td>2018-03-26</td>\n",
       "      <td>CERTIFIED</td>\n",
       "      <td>2018</td>\n",
       "      <td>3</td>\n",
       "      <td>2018</td>\n",
       "      <td>3</td>\n",
       "    </tr>\n",
       "    <tr>\n",
       "      <th>3</th>\n",
       "      <td>JETLORE INC F/K/A QWHISPR INC</td>\n",
       "      <td>MACHINE LEARNING &amp; DATA MINING ARCHITECT</td>\n",
       "      <td>131000.0</td>\n",
       "      <td>SAN MATEO, CA</td>\n",
       "      <td>2017-03-15</td>\n",
       "      <td>2017-09-14</td>\n",
       "      <td>CERTIFIED</td>\n",
       "      <td>2017</td>\n",
       "      <td>3</td>\n",
       "      <td>2017</td>\n",
       "      <td>9</td>\n",
       "    </tr>\n",
       "    <tr>\n",
       "      <th>4</th>\n",
       "      <td>MACHINE ZONE INC</td>\n",
       "      <td>MACHINE LEARNING &amp; NLP DIRECTOR</td>\n",
       "      <td>169749.0</td>\n",
       "      <td>PALO ALTO, CA</td>\n",
       "      <td>2017-03-20</td>\n",
       "      <td>2017-09-16</td>\n",
       "      <td>CERTIFIED</td>\n",
       "      <td>2017</td>\n",
       "      <td>3</td>\n",
       "      <td>2017</td>\n",
       "      <td>9</td>\n",
       "    </tr>\n",
       "    <tr>\n",
       "      <th>5</th>\n",
       "      <td>ABNORMAL SECURITY INC</td>\n",
       "      <td>MACHINE LEARNING &amp; USER EXPERIENCE ENGINEER</td>\n",
       "      <td>165000.0</td>\n",
       "      <td>SAN FRANCISCO, CA</td>\n",
       "      <td>2018-04-09</td>\n",
       "      <td>2018-05-21</td>\n",
       "      <td>CERTIFIED</td>\n",
       "      <td>2018</td>\n",
       "      <td>4</td>\n",
       "      <td>2018</td>\n",
       "      <td>5</td>\n",
       "    </tr>\n",
       "  </tbody>\n",
       "</table>\n",
       "</div>"
      ],
      "text/plain": [
       "                         company                               position_title  \\\n",
       "0                    DROPBOX INC                             MACHINE LEARNING   \n",
       "2               GRAVITY JACK INC  MACHINE LEARNING & COMPUTER VISION ENGINEER   \n",
       "3  JETLORE INC F/K/A QWHISPR INC     MACHINE LEARNING & DATA MINING ARCHITECT   \n",
       "4               MACHINE ZONE INC              MACHINE LEARNING & NLP DIRECTOR   \n",
       "5          ABNORMAL SECURITY INC  MACHINE LEARNING & USER EXPERIENCE ENGINEER   \n",
       "\n",
       "     salary           location submit_date start_date case_status  \\\n",
       "0  122429.0  SAN FRANCISCO, CA  2018-03-05 2018-09-01   CERTIFIED   \n",
       "2   58500.0   LIBERTY LAKE, WA  2018-03-26 2018-03-26   CERTIFIED   \n",
       "3  131000.0      SAN MATEO, CA  2017-03-15 2017-09-14   CERTIFIED   \n",
       "4  169749.0      PALO ALTO, CA  2017-03-20 2017-09-16   CERTIFIED   \n",
       "5  165000.0  SAN FRANCISCO, CA  2018-04-09 2018-05-21   CERTIFIED   \n",
       "\n",
       "   submitdate_year  submitdate_month  startdate_year  startdate_month  \n",
       "0             2018                 3            2018                9  \n",
       "2             2018                 3            2018                3  \n",
       "3             2017                 3            2017                9  \n",
       "4             2017                 3            2017                9  \n",
       "5             2018                 4            2018                5  "
      ]
     },
     "execution_count": 28,
     "metadata": {},
     "output_type": "execute_result"
    }
   ],
   "source": [
    "df.head()"
   ]
  },
  {
   "cell_type": "code",
   "execution_count": null,
   "metadata": {},
   "outputs": [],
   "source": [
    "#checking the number of applications per year."
   ]
  },
  {
   "cell_type": "code",
   "execution_count": 29,
   "metadata": {},
   "outputs": [
    {
     "data": {
      "text/plain": [
       "2013      8\n",
       "2014     31\n",
       "2015     42\n",
       "2016     42\n",
       "2017    125\n",
       "2018    242\n",
       "Name: submitdate_year, dtype: int64"
      ]
     },
     "execution_count": 29,
     "metadata": {},
     "output_type": "execute_result"
    }
   ],
   "source": [
    "df.submitdate_year.value_counts().sort_index()"
   ]
  },
  {
   "cell_type": "code",
   "execution_count": null,
   "metadata": {},
   "outputs": [],
   "source": [
    "#plotting the above data"
   ]
  },
  {
   "cell_type": "code",
   "execution_count": 86,
   "metadata": {},
   "outputs": [
    {
     "data": {
      "image/png": "[encoded data removed]",
      "text/plain": [
       "<matplotlib.figure.Figure at 0x120fee7b8>"
      ]
     },
     "metadata": {},
     "output_type": "display_data"
    }
   ],
   "source": [
    "df.submitdate_year.value_counts().sort_index().plot()\n",
    "plt.xlabel('Years')\n",
    "plt.ylabel('Number of Applications')\n",
    "plt.show()"
   ]
  },
  {
   "cell_type": "code",
   "execution_count": null,
   "metadata": {},
   "outputs": [],
   "source": [
    "#calculating the mean salary for each year and trying to identify a trend through a plot. There's definitely a better way to do this than the hacky way I've done."
   ]
  },
  {
   "cell_type": "code",
   "execution_count": 31,
   "metadata": {},
   "outputs": [],
   "source": [
    "ts = [2013,2014,2015,2016,2017,2018]\n",
    "\n",
    "year2013 = df.loc[df.submitdate_year == ts[0],:]\n",
    "salary_2013 = year2013.salary.mean()\n",
    "\n",
    "year2014 = df.loc[df.submitdate_year == ts[1],:]\n",
    "salary_2014 = year2014.salary.mean()\n",
    "\n",
    "year2015 = df.loc[df.submitdate_year == ts[2],:]\n",
    "salary_2015 = year2015.salary.mean()\n",
    "\n",
    "\n",
    "year2016 = df.loc[df.submitdate_year == ts[3],:]\n",
    "salary_2016 = year2016.salary.mean()\n",
    "\n",
    "year2017 = df.loc[df.submitdate_year == ts[4],:]\n",
    "salary_2017 = year2017.salary.mean()\n",
    "\n",
    "\n",
    "year2018 = df.loc[df.submitdate_year == ts[5],:]\n",
    "salary_2018 = year2018.salary.mean()\n",
    "\n",
    "salary = [salary_2013,salary_2014,salary_2015,salary_2016,salary_2017,salary_2018]\n"
   ]
  },
  {
   "cell_type": "code",
   "execution_count": 88,
   "metadata": {},
   "outputs": [
    {
     "data": {
      "image/png": "[encoded data removed]",
      "text/plain": [
       "<matplotlib.figure.Figure at 0x121202a90>"
      ]
     },
     "metadata": {},
     "output_type": "display_data"
    }
   ],
   "source": [
    "plt.plot(ts, salary)\n",
    "plt.xlabel('Years')\n",
    "plt.ylabel('Mean Salary  in USD')\n",
    "plt.show()"
   ]
  },
  {
   "cell_type": "code",
   "execution_count": null,
   "metadata": {},
   "outputs": [],
   "source": [
    "print(time)"
   ]
  },
  {
   "cell_type": "code",
   "execution_count": 44,
   "metadata": {},
   "outputs": [
    {
     "data": {
      "text/plain": [
       "(490, 11)"
      ]
     },
     "execution_count": 44,
     "metadata": {},
     "output_type": "execute_result"
    }
   ],
   "source": [
    "df.shape"
   ]
  },
  {
   "cell_type": "code",
   "execution_count": null,
   "metadata": {},
   "outputs": [],
   "source": [
    "#finding the number of days between application submission date and job start date."
   ]
  },
  {
   "cell_type": "code",
   "execution_count": 58,
   "metadata": {},
   "outputs": [],
   "source": [
    "average_days = []\n",
    "i = 0\n",
    "for i, row in df.iterrows():\n",
    "    x = pd.Timedelta(df['start_date'][i] - df['submit_date'][i]).days\n",
    "    average_days.append(x)\n",
    "    i += 1\n"
   ]
  },
  {
   "cell_type": "code",
   "execution_count": 61,
   "metadata": {},
   "outputs": [
    {
     "data": {
      "text/plain": [
       "490"
      ]
     },
     "execution_count": 61,
     "metadata": {},
     "output_type": "execute_result"
    }
   ],
   "source": [
    "len(average_days)"
   ]
  },
  {
   "cell_type": "code",
   "execution_count": 62,
   "metadata": {},
   "outputs": [],
   "source": [
    "average_days = pd.DataFrame(average_days)"
   ]
  },
  {
   "cell_type": "code",
   "execution_count": 63,
   "metadata": {},
   "outputs": [],
   "source": [
    "df['days_between_submission_and_start'] = average_days"
   ]
  },
  {
   "cell_type": "code",
   "execution_count": 64,
   "metadata": {},
   "outputs": [
    {
     "data": {
      "text/html": [
       "<div>\n",
       "<style scoped>\n",
       "    .dataframe tbody tr th:only-of-type {\n",
       "        vertical-align: middle;\n",
       "    }\n",
       "\n",
       "    .dataframe tbody tr th {\n",
       "        vertical-align: top;\n",
       "    }\n",
       "\n",
       "    .dataframe thead th {\n",
       "        text-align: right;\n",
       "    }\n",
       "</style>\n",
       "<table border=\"1\" class=\"dataframe\">\n",
       "  <thead>\n",
       "    <tr style=\"text-align: right;\">\n",
       "      <th></th>\n",
       "      <th>company</th>\n",
       "      <th>position_title</th>\n",
       "      <th>salary</th>\n",
       "      <th>location</th>\n",
       "      <th>submit_date</th>\n",
       "      <th>start_date</th>\n",
       "      <th>case_status</th>\n",
       "      <th>submitdate_year</th>\n",
       "      <th>submitdate_month</th>\n",
       "      <th>startdate_year</th>\n",
       "      <th>startdate_month</th>\n",
       "      <th>days_between_submission_and_start</th>\n",
       "    </tr>\n",
       "  </thead>\n",
       "  <tbody>\n",
       "    <tr>\n",
       "      <th>0</th>\n",
       "      <td>DROPBOX INC</td>\n",
       "      <td>MACHINE LEARNING</td>\n",
       "      <td>122429.0</td>\n",
       "      <td>SAN FRANCISCO, CA</td>\n",
       "      <td>2018-03-05</td>\n",
       "      <td>2018-09-01</td>\n",
       "      <td>CERTIFIED</td>\n",
       "      <td>2018</td>\n",
       "      <td>3</td>\n",
       "      <td>2018</td>\n",
       "      <td>9</td>\n",
       "      <td>180.0</td>\n",
       "    </tr>\n",
       "    <tr>\n",
       "      <th>2</th>\n",
       "      <td>GRAVITY JACK INC</td>\n",
       "      <td>MACHINE LEARNING &amp; COMPUTER VISION ENGINEER</td>\n",
       "      <td>58500.0</td>\n",
       "      <td>LIBERTY LAKE, WA</td>\n",
       "      <td>2018-03-26</td>\n",
       "      <td>2018-03-26</td>\n",
       "      <td>CERTIFIED</td>\n",
       "      <td>2018</td>\n",
       "      <td>3</td>\n",
       "      <td>2018</td>\n",
       "      <td>3</td>\n",
       "      <td>183.0</td>\n",
       "    </tr>\n",
       "    <tr>\n",
       "      <th>3</th>\n",
       "      <td>JETLORE INC F/K/A QWHISPR INC</td>\n",
       "      <td>MACHINE LEARNING &amp; DATA MINING ARCHITECT</td>\n",
       "      <td>131000.0</td>\n",
       "      <td>SAN MATEO, CA</td>\n",
       "      <td>2017-03-15</td>\n",
       "      <td>2017-09-14</td>\n",
       "      <td>CERTIFIED</td>\n",
       "      <td>2017</td>\n",
       "      <td>3</td>\n",
       "      <td>2017</td>\n",
       "      <td>9</td>\n",
       "      <td>180.0</td>\n",
       "    </tr>\n",
       "    <tr>\n",
       "      <th>4</th>\n",
       "      <td>MACHINE ZONE INC</td>\n",
       "      <td>MACHINE LEARNING &amp; NLP DIRECTOR</td>\n",
       "      <td>169749.0</td>\n",
       "      <td>PALO ALTO, CA</td>\n",
       "      <td>2017-03-20</td>\n",
       "      <td>2017-09-16</td>\n",
       "      <td>CERTIFIED</td>\n",
       "      <td>2017</td>\n",
       "      <td>3</td>\n",
       "      <td>2017</td>\n",
       "      <td>9</td>\n",
       "      <td>42.0</td>\n",
       "    </tr>\n",
       "    <tr>\n",
       "      <th>5</th>\n",
       "      <td>ABNORMAL SECURITY INC</td>\n",
       "      <td>MACHINE LEARNING &amp; USER EXPERIENCE ENGINEER</td>\n",
       "      <td>165000.0</td>\n",
       "      <td>SAN FRANCISCO, CA</td>\n",
       "      <td>2018-04-09</td>\n",
       "      <td>2018-05-21</td>\n",
       "      <td>CERTIFIED</td>\n",
       "      <td>2018</td>\n",
       "      <td>4</td>\n",
       "      <td>2018</td>\n",
       "      <td>5</td>\n",
       "      <td>28.0</td>\n",
       "    </tr>\n",
       "  </tbody>\n",
       "</table>\n",
       "</div>"
      ],
      "text/plain": [
       "                         company                               position_title  \\\n",
       "0                    DROPBOX INC                             MACHINE LEARNING   \n",
       "2               GRAVITY JACK INC  MACHINE LEARNING & COMPUTER VISION ENGINEER   \n",
       "3  JETLORE INC F/K/A QWHISPR INC     MACHINE LEARNING & DATA MINING ARCHITECT   \n",
       "4               MACHINE ZONE INC              MACHINE LEARNING & NLP DIRECTOR   \n",
       "5          ABNORMAL SECURITY INC  MACHINE LEARNING & USER EXPERIENCE ENGINEER   \n",
       "\n",
       "     salary           location submit_date start_date case_status  \\\n",
       "0  122429.0  SAN FRANCISCO, CA  2018-03-05 2018-09-01   CERTIFIED   \n",
       "2   58500.0   LIBERTY LAKE, WA  2018-03-26 2018-03-26   CERTIFIED   \n",
       "3  131000.0      SAN MATEO, CA  2017-03-15 2017-09-14   CERTIFIED   \n",
       "4  169749.0      PALO ALTO, CA  2017-03-20 2017-09-16   CERTIFIED   \n",
       "5  165000.0  SAN FRANCISCO, CA  2018-04-09 2018-05-21   CERTIFIED   \n",
       "\n",
       "   submitdate_year  submitdate_month  startdate_year  startdate_month  \\\n",
       "0             2018                 3            2018                9   \n",
       "2             2018                 3            2018                3   \n",
       "3             2017                 3            2017                9   \n",
       "4             2017                 3            2017                9   \n",
       "5             2018                 4            2018                5   \n",
       "\n",
       "   days_between_submission_and_start  \n",
       "0                              180.0  \n",
       "2                              183.0  \n",
       "3                              180.0  \n",
       "4                               42.0  \n",
       "5                               28.0  "
      ]
     },
     "execution_count": 64,
     "metadata": {},
     "output_type": "execute_result"
    }
   ],
   "source": [
    "df.head()"
   ]
  },
  {
   "cell_type": "code",
   "execution_count": null,
   "metadata": {},
   "outputs": [],
   "source": [
    "#find it for all years and plotting"
   ]
  },
  {
   "cell_type": "code",
   "execution_count": 66,
   "metadata": {},
   "outputs": [],
   "source": [
    "year2013 = df.loc[df.submitdate_year == ts[0],:]\n",
    "year2014 = df.loc[df.submitdate_year == ts[1],:]\n",
    "year2015 = df.loc[df.submitdate_year == ts[2],:]\n",
    "year2016 = df.loc[df.submitdate_year == ts[3],:]\n",
    "year2017 = df.loc[df.submitdate_year == ts[4],:]\n",
    "year2018 = df.loc[df.submitdate_year == ts[5],:]\n",
    "\n",
    "\n",
    "days_2013 = year2013.days_between_submission_and_start.mean()\n",
    "days_2014 = year2014.days_between_submission_and_start.mean()\n",
    "days_2015 = year2015.days_between_submission_and_start.mean()\n",
    "days_2016 = year2016.days_between_submission_and_start.mean()\n",
    "days_2017 = year2017.days_between_submission_and_start.mean()\n",
    "days_2018 = year2018.days_between_submission_and_start.mean()\n",
    "\n",
    "days_difference = [days_2013,days_2014,days_2015,days_2016,days_2017,days_2018]"
   ]
  },
  {
   "cell_type": "code",
   "execution_count": 90,
   "metadata": {},
   "outputs": [
    {
     "data": {
      "image/png": "[encoded data removed]",
      "text/plain": [
       "<matplotlib.figure.Figure at 0x120e56b38>"
      ]
     },
     "metadata": {},
     "output_type": "display_data"
    }
   ],
   "source": [
    "plt.plot(ts, days_difference)\n",
    "plt.xlabel('Years')\n",
    "plt.ylabel('Days between Application Submission & Job Start')\n",
    "plt.show()"
   ]
  },
  {
   "cell_type": "code",
   "execution_count": null,
   "metadata": {},
   "outputs": [],
   "source": [
    "#looks like there's a significant drop in the number of days. One can assume confidently that employers want these hires to start earlier as the job market for ML engineers keeps getting hotter."
   ]
  },
  {
   "cell_type": "code",
   "execution_count": 81,
   "metadata": {},
   "outputs": [
    {
     "data": {
      "text/plain": [
       "0    3\n",
       "dtype: int64"
      ]
     },
     "execution_count": 81,
     "metadata": {},
     "output_type": "execute_result"
    }
   ],
   "source": [
    "#most common month for submission, ideally in march since USCIS only accepts new applications in the first week of April every year.\n",
    "df.submitdate_month.mode()"
   ]
  },
  {
   "cell_type": "code",
   "execution_count": 82,
   "metadata": {},
   "outputs": [
    {
     "data": {
      "text/plain": [
       "0    9\n",
       "dtype: int64"
      ]
     },
     "execution_count": 82,
     "metadata": {},
     "output_type": "execute_result"
    }
   ],
   "source": [
    "#seems like most start dates are in the month of September. Could be because many students graduate at the end of spring and it takes between 60-90 days for USCIS to process applications and job offers are provided in the previous year itself.\n",
    "df.startdate_month.mode()\n"
   ]
  },
  {
   "cell_type": "code",
   "execution_count": null,
   "metadata": {},
   "outputs": [],
   "source": []
  }
 ],
 "metadata": {
  "kernelspec": {
   "display_name": "Python 3",
   "language": "python",
   "name": "python3"
  },
  "language_info": {
   "codemirror_mode": {
    "name": "ipython",
    "version": 3
   },
   "file_extension": ".py",
   "mimetype": "text/x-python",
   "name": "python",
   "nbconvert_exporter": "python",
   "pygments_lexer": "ipython3",
   "version": "3.6.4"
  }
 },
 "nbformat": 4,
 "nbformat_minor": 2
}
